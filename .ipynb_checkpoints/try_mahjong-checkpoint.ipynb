{
 "cells": [
  {
   "cell_type": "code",
   "execution_count": 1,
   "metadata": {},
   "outputs": [],
   "source": [
    "import mahjong\n",
    "from mahjong import Type, Dragon, Wind, Round, Tile, Player\n",
    "import numpy\n",
    "\n",
    "\n",
    "    "
   ]
  },
  {
   "cell_type": "code",
   "execution_count": 2,
   "metadata": {},
   "outputs": [],
   "source": [
    "nbr_round = 1\n",
    "east_seat = 'east'\n",
    "current_round = Round()"
   ]
  },
  {
   "cell_type": "code",
   "execution_count": 3,
   "metadata": {},
   "outputs": [
    {
     "name": "stdout",
     "output_type": "stream",
     "text": [
      "64\n"
     ]
    }
   ],
   "source": [
    "start = current_round.crack(14)\n",
    "print(start)"
   ]
  },
  {
   "cell_type": "code",
   "execution_count": 4,
   "metadata": {},
   "outputs": [],
   "source": [
    "current_round.deal()"
   ]
  },
  {
   "cell_type": "raw",
   "metadata": {},
   "source": [
    "current_round.deal_flowers()\n"
   ]
  },
  {
   "cell_type": "code",
   "execution_count": 16,
   "metadata": {},
   "outputs": [
    {
     "ename": "TypeError",
     "evalue": "'Player' object does not support indexing",
     "output_type": "error",
     "traceback": [
      "\u001b[1;31m---------------------------------------------------------------------------\u001b[0m",
      "\u001b[1;31mTypeError\u001b[0m                                 Traceback (most recent call last)",
      "\u001b[1;32m<ipython-input-16-e0f6f265a303>\u001b[0m in \u001b[0;36m<module>\u001b[1;34m\u001b[0m\n\u001b[1;32m----> 1\u001b[1;33m \u001b[0mcurrent_round\u001b[0m\u001b[1;33m.\u001b[0m\u001b[0meast\u001b[0m\u001b[1;33m[\u001b[0m\u001b[1;36m1\u001b[0m\u001b[1;33m]\u001b[0m\u001b[1;33m\u001b[0m\u001b[1;33m\u001b[0m\u001b[0m\n\u001b[0m",
      "\u001b[1;31mTypeError\u001b[0m: 'Player' object does not support indexing"
     ]
    }
   ],
   "source": [
    "for tile in current_round.east.hand:\n",
    "    if tile.type==4:\n",
    "          print(Type(tile.type), Dragon(tile.value))\n",
    "    elif tile.type==3:\n",
    "          print(Type(tile.type), Wind(tile.value))\n",
    "    else:\n",
    "          print(Type(tile.type), tile.value)current_round.east[1]"
   ]
  },
  {
   "cell_type": "code",
   "execution_count": 11,
   "metadata": {},
   "outputs": [
    {
     "ename": "TypeError",
     "evalue": "print_player_hands() takes 1 positional argument but 2 were given",
     "output_type": "error",
     "traceback": [
      "\u001b[1;31m---------------------------------------------------------------------------\u001b[0m",
      "\u001b[1;31mTypeError\u001b[0m                                 Traceback (most recent call last)",
      "\u001b[1;32m<ipython-input-11-64f2f2a3b9c2>\u001b[0m in \u001b[0;36m<module>\u001b[1;34m\u001b[0m\n\u001b[1;32m----> 1\u001b[1;33m \u001b[0mcurrent_round\u001b[0m\u001b[1;33m.\u001b[0m\u001b[0mprint_player_hands\u001b[0m\u001b[1;33m(\u001b[0m\u001b[0mplayer_east\u001b[0m\u001b[1;33m)\u001b[0m\u001b[1;33m\u001b[0m\u001b[1;33m\u001b[0m\u001b[0m\n\u001b[0m",
      "\u001b[1;31mTypeError\u001b[0m: print_player_hands() takes 1 positional argument but 2 were given"
     ]
    }
   ],
   "source": []
  },
  {
   "cell_type": "code",
   "execution_count": 5,
   "metadata": {},
   "outputs": [
    {
     "name": "stdout",
     "output_type": "stream",
     "text": [
      "East\n",
      "Type.bamboo 7\n",
      "Type.bamboo 9\n",
      "Type.bamboo 2\n",
      "Type.season 4\n",
      "Type.dot 7\n",
      "Type.dot 9\n",
      "Type.wind Wind.west\n",
      "Type.bamboo 9\n",
      "Type.character 2\n",
      "Type.bamboo 8\n",
      "Type.character 1\n",
      "Type.wind Wind.north\n",
      "Type.bamboo 5\n",
      "Type.character 5\n",
      "\n",
      "\n",
      "South\n",
      "Type.dragon Dragon.red\n",
      "Type.dot 6\n",
      "Type.wind Wind.south\n",
      "Type.character 6\n",
      "Type.bamboo 2\n",
      "Type.wind Wind.west\n",
      "Type.dot 5\n",
      "Type.bamboo 9\n",
      "Type.character 7\n",
      "Type.wind Wind.east\n",
      "Type.character 2\n",
      "Type.bamboo 7\n",
      "Type.dragon Dragon.blue\n",
      "\n",
      "\n",
      "West\n",
      "Type.bamboo 6\n",
      "Type.character 2\n",
      "Type.bamboo 5\n",
      "Type.bamboo 8\n",
      "Type.bamboo 5\n",
      "Type.dot 3\n",
      "Type.bamboo 3\n",
      "Type.character 1\n",
      "Type.dot 3\n",
      "Type.dot 2\n",
      "Type.dot 1\n",
      "Type.bamboo 4\n",
      "Type.character 3\n",
      "\n",
      "\n",
      "North\n",
      "Type.bamboo 8\n",
      "Type.character 6\n",
      "Type.dot 3\n",
      "Type.wind Wind.east\n",
      "Type.season 2\n",
      "Type.dragon Dragon.blue\n",
      "Type.dot 2\n",
      "Type.wind Wind.south\n",
      "Type.bamboo 9\n",
      "Type.wind Wind.east\n",
      "Type.dot 1\n",
      "Type.dragon Dragon.red\n",
      "Type.dragon Dragon.blue\n",
      "\n",
      "\n"
     ]
    }
   ],
   "source": [
    "current_round.print_player_hands()"
   ]
  },
  {
   "cell_type": "code",
   "execution_count": null,
   "metadata": {},
   "outputs": [],
   "source": []
  }
 ],
 "metadata": {
  "kernelspec": {
   "display_name": "Python 3",
   "language": "python",
   "name": "python3"
  },
  "language_info": {
   "codemirror_mode": {
    "name": "ipython",
    "version": 3
   },
   "file_extension": ".py",
   "mimetype": "text/x-python",
   "name": "python",
   "nbconvert_exporter": "python",
   "pygments_lexer": "ipython3",
   "version": "3.6.7"
  },
  "varInspector": {
   "cols": {
    "lenName": 16,
    "lenType": 16,
    "lenVar": 40
   },
   "kernels_config": {
    "python": {
     "delete_cmd_postfix": "",
     "delete_cmd_prefix": "del ",
     "library": "var_list.py",
     "varRefreshCmd": "print(var_dic_list())"
    },
    "r": {
     "delete_cmd_postfix": ") ",
     "delete_cmd_prefix": "rm(",
     "library": "var_list.r",
     "varRefreshCmd": "cat(var_dic_list()) "
    }
   },
   "types_to_exclude": [
    "module",
    "function",
    "builtin_function_or_method",
    "instance",
    "_Feature"
   ],
   "window_display": false
  }
 },
 "nbformat": 4,
 "nbformat_minor": 2
}
